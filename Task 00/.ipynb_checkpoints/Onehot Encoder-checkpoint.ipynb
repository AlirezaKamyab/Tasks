{
 "cells": [
  {
   "cell_type": "markdown",
   "id": "9019ecf5",
   "metadata": {},
   "source": [
    "# Onehot Encoder"
   ]
  },
  {
   "cell_type": "code",
   "execution_count": 1,
   "id": "596c670e",
   "metadata": {},
   "outputs": [],
   "source": [
    "import pandas as pd\n",
    "import numpy as np\n",
    "from sklearn.preprocessing import OneHotEncoder, OrdinalEncoder"
   ]
  },
  {
   "cell_type": "code",
   "execution_count": 2,
   "id": "23474ad7",
   "metadata": {},
   "outputs": [
    {
     "data": {
      "text/plain": [
       "0       Square\n",
       "1       Circle\n",
       "2     Triangle\n",
       "3    Rectangle\n",
       "dtype: object"
      ]
     },
     "execution_count": 2,
     "metadata": {},
     "output_type": "execute_result"
    }
   ],
   "source": [
    "shape = pd.Series(['Square', 'Circle', 'Triangle', 'Rectangle'])\n",
    "shape"
   ]
  },
  {
   "cell_type": "code",
   "execution_count": 3,
   "id": "31836996",
   "metadata": {},
   "outputs": [],
   "source": [
    "ordinalNumber = pd.Series(['third', 'first', 'second', 'second'])\n",
    "size = pd.Series(['S', 'S', 'L', 'XL'])"
   ]
  },
  {
   "cell_type": "code",
   "execution_count": 8,
   "id": "2f90cb61",
   "metadata": {},
   "outputs": [],
   "source": [
    "df = pd.DataFrame({'Shape':shape, 'Class':ordinalNumber, 'Size':size})"
   ]
  },
  {
   "cell_type": "code",
   "execution_count": 9,
   "id": "b0cb0c81",
   "metadata": {},
   "outputs": [
    {
     "data": {
      "text/html": [
       "<div>\n",
       "<style scoped>\n",
       "    .dataframe tbody tr th:only-of-type {\n",
       "        vertical-align: middle;\n",
       "    }\n",
       "\n",
       "    .dataframe tbody tr th {\n",
       "        vertical-align: top;\n",
       "    }\n",
       "\n",
       "    .dataframe thead th {\n",
       "        text-align: right;\n",
       "    }\n",
       "</style>\n",
       "<table border=\"1\" class=\"dataframe\">\n",
       "  <thead>\n",
       "    <tr style=\"text-align: right;\">\n",
       "      <th></th>\n",
       "      <th>Shape</th>\n",
       "      <th>Class</th>\n",
       "      <th>Size</th>\n",
       "    </tr>\n",
       "  </thead>\n",
       "  <tbody>\n",
       "    <tr>\n",
       "      <th>0</th>\n",
       "      <td>Square</td>\n",
       "      <td>third</td>\n",
       "      <td>S</td>\n",
       "    </tr>\n",
       "    <tr>\n",
       "      <th>1</th>\n",
       "      <td>Circle</td>\n",
       "      <td>first</td>\n",
       "      <td>S</td>\n",
       "    </tr>\n",
       "    <tr>\n",
       "      <th>2</th>\n",
       "      <td>Triangle</td>\n",
       "      <td>second</td>\n",
       "      <td>L</td>\n",
       "    </tr>\n",
       "    <tr>\n",
       "      <th>3</th>\n",
       "      <td>Rectangle</td>\n",
       "      <td>second</td>\n",
       "      <td>XL</td>\n",
       "    </tr>\n",
       "  </tbody>\n",
       "</table>\n",
       "</div>"
      ],
      "text/plain": [
       "       Shape   Class Size\n",
       "0     Square   third    S\n",
       "1     Circle   first    S\n",
       "2   Triangle  second    L\n",
       "3  Rectangle  second   XL"
      ]
     },
     "execution_count": 9,
     "metadata": {},
     "output_type": "execute_result"
    }
   ],
   "source": [
    "df"
   ]
  },
  {
   "cell_type": "code",
   "execution_count": 13,
   "id": "35a381d8",
   "metadata": {},
   "outputs": [
    {
     "data": {
      "text/html": [
       "<div>\n",
       "<style scoped>\n",
       "    .dataframe tbody tr th:only-of-type {\n",
       "        vertical-align: middle;\n",
       "    }\n",
       "\n",
       "    .dataframe tbody tr th {\n",
       "        vertical-align: top;\n",
       "    }\n",
       "\n",
       "    .dataframe thead th {\n",
       "        text-align: right;\n",
       "    }\n",
       "</style>\n",
       "<table border=\"1\" class=\"dataframe\">\n",
       "  <thead>\n",
       "    <tr style=\"text-align: right;\">\n",
       "      <th></th>\n",
       "      <th>Shape-Circle</th>\n",
       "      <th>Shape-Rectangle</th>\n",
       "      <th>Shape-Square</th>\n",
       "      <th>Shape-Triangle</th>\n",
       "    </tr>\n",
       "  </thead>\n",
       "  <tbody>\n",
       "    <tr>\n",
       "      <th>0</th>\n",
       "      <td>0</td>\n",
       "      <td>0</td>\n",
       "      <td>1</td>\n",
       "      <td>0</td>\n",
       "    </tr>\n",
       "    <tr>\n",
       "      <th>1</th>\n",
       "      <td>1</td>\n",
       "      <td>0</td>\n",
       "      <td>0</td>\n",
       "      <td>0</td>\n",
       "    </tr>\n",
       "    <tr>\n",
       "      <th>2</th>\n",
       "      <td>0</td>\n",
       "      <td>0</td>\n",
       "      <td>0</td>\n",
       "      <td>1</td>\n",
       "    </tr>\n",
       "    <tr>\n",
       "      <th>3</th>\n",
       "      <td>0</td>\n",
       "      <td>1</td>\n",
       "      <td>0</td>\n",
       "      <td>0</td>\n",
       "    </tr>\n",
       "  </tbody>\n",
       "</table>\n",
       "</div>"
      ],
      "text/plain": [
       "   Shape-Circle  Shape-Rectangle  Shape-Square  Shape-Triangle\n",
       "0             0                0             1               0\n",
       "1             1                0             0               0\n",
       "2             0                0             0               1\n",
       "3             0                1             0               0"
      ]
     },
     "execution_count": 13,
     "metadata": {},
     "output_type": "execute_result"
    }
   ],
   "source": [
    "pd.get_dummies(df['Shape'], prefix='Shape', prefix_sep='-', drop_first=False)"
   ]
  },
  {
   "cell_type": "code",
   "execution_count": 20,
   "id": "ddca428b",
   "metadata": {},
   "outputs": [],
   "source": [
    "ohe = OneHotEncoder(sparse=False)\n",
    "shape_dummies = ohe.fit_transform(df[['Shape']])"
   ]
  },
  {
   "cell_type": "code",
   "execution_count": 21,
   "id": "0bb7bbb5",
   "metadata": {},
   "outputs": [
    {
     "name": "stdout",
     "output_type": "stream",
     "text": [
      "[[0. 0. 1. 0.]\n",
      " [1. 0. 0. 0.]\n",
      " [0. 0. 0. 1.]\n",
      " [0. 1. 0. 0.]] <class 'numpy.ndarray'>\n"
     ]
    }
   ],
   "source": [
    "print(shape_dummies, type(shape_dummies))"
   ]
  },
  {
   "cell_type": "code",
   "execution_count": 23,
   "id": "fba7e04a",
   "metadata": {},
   "outputs": [],
   "source": [
    "ode = OrdinalEncoder(categories=[['first', 'second', 'third', 'fourth'], ['S', 'M', 'L', 'XL']])\n",
    "class_size_dummies = ode.fit_transform(df[['Class', 'Size']])"
   ]
  },
  {
   "cell_type": "code",
   "execution_count": 24,
   "id": "add92ed9",
   "metadata": {},
   "outputs": [
    {
     "data": {
      "text/plain": [
       "(4, 2)"
      ]
     },
     "execution_count": 24,
     "metadata": {},
     "output_type": "execute_result"
    }
   ],
   "source": [
    "class_size_dummies.shape"
   ]
  },
  {
   "cell_type": "code",
   "execution_count": 25,
   "id": "eabbcf83",
   "metadata": {},
   "outputs": [
    {
     "data": {
      "text/plain": [
       "array([[2., 0.],\n",
       "       [0., 0.],\n",
       "       [1., 2.],\n",
       "       [1., 3.]])"
      ]
     },
     "execution_count": 25,
     "metadata": {},
     "output_type": "execute_result"
    }
   ],
   "source": [
    "class_size_dummies"
   ]
  },
  {
   "cell_type": "code",
   "execution_count": 41,
   "id": "76343aa9",
   "metadata": {},
   "outputs": [
    {
     "data": {
      "text/plain": [
       "[array(['Circle', 'Square', 'Triangle'], dtype=object),\n",
       " array(['Female', 'Male'], dtype=object),\n",
       " array([1, 2, 3], dtype=object)]"
      ]
     },
     "execution_count": 41,
     "metadata": {},
     "output_type": "execute_result"
    }
   ],
   "source": [
    "X = [['Circle', 'Male', 1], ['Square', 'Female', 2], ['Triangle', 'Female', 3]]\n",
    "ohe = OneHotEncoder(drop='if_binary')\n",
    "ohe = ohe.fit(X)\n",
    "ohe.categories_"
   ]
  },
  {
   "cell_type": "code",
   "execution_count": 42,
   "id": "371fb5f7",
   "metadata": {},
   "outputs": [],
   "source": [
    "arr_t = ohe.transform([['Circle', 'Male', 2], ['Square', 'Female', 1]]).toarray()"
   ]
  },
  {
   "cell_type": "code",
   "execution_count": 43,
   "id": "0a14e66c",
   "metadata": {},
   "outputs": [
    {
     "data": {
      "text/plain": [
       "array([['Circle', 'Male', 2],\n",
       "       ['Square', 'Female', 1]], dtype=object)"
      ]
     },
     "execution_count": 43,
     "metadata": {},
     "output_type": "execute_result"
    }
   ],
   "source": [
    "ohe.inverse_transform(arr_t)"
   ]
  },
  {
   "cell_type": "code",
   "execution_count": 44,
   "id": "75cd8f79",
   "metadata": {},
   "outputs": [
    {
     "data": {
      "text/plain": [
       "array([[1., 0., 0., 1., 0., 1., 0.],\n",
       "       [0., 1., 0., 0., 1., 0., 0.]])"
      ]
     },
     "execution_count": 44,
     "metadata": {},
     "output_type": "execute_result"
    }
   ],
   "source": [
    "arr_t"
   ]
  },
  {
   "cell_type": "code",
   "execution_count": null,
   "id": "3f3d582c",
   "metadata": {},
   "outputs": [],
   "source": []
  }
 ],
 "metadata": {
  "kernelspec": {
   "display_name": "Python 3 (ipykernel)",
   "language": "python",
   "name": "python3"
  },
  "language_info": {
   "codemirror_mode": {
    "name": "ipython",
    "version": 3
   },
   "file_extension": ".py",
   "mimetype": "text/x-python",
   "name": "python",
   "nbconvert_exporter": "python",
   "pygments_lexer": "ipython3",
   "version": "3.10.4"
  }
 },
 "nbformat": 4,
 "nbformat_minor": 5
}
