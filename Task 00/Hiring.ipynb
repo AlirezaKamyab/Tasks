{
 "cells": [
  {
   "cell_type": "markdown",
   "id": "33cb13ee",
   "metadata": {},
   "source": [
    "# Linear Regression Task\n",
    "## What to do\n",
    "<ul>\n",
    "    <li><p>Clean data</p></li>\n",
    "    <li><p>Have a visualization for data</p></li>\n",
    "    <li><p>Train data</p></li>\n",
    "    <li><p>Evaluation</p></li>\n",
    "</ul>"
   ]
  },
  {
   "cell_type": "code",
   "execution_count": 1,
   "id": "1b3558c9",
   "metadata": {},
   "outputs": [],
   "source": [
    "from sklearn.linear_model import LinearRegression\n",
    "from sklearn.preprocessing import StandardScaler\n",
    "import numpy as np\n",
    "import matplotlib.pyplot as plt\n",
    "import pandas as pd"
   ]
  },
  {
   "cell_type": "code",
   "execution_count": 2,
   "id": "6bbdc399",
   "metadata": {},
   "outputs": [],
   "source": [
    "df = pd.read_csv('Hiring.csv', skiprows=1)\n",
    "df = df.fillna(0)"
   ]
  },
  {
   "cell_type": "code",
   "execution_count": 3,
   "id": "3918dec2",
   "metadata": {},
   "outputs": [],
   "source": [
    "def convert_text_to_number(str_num:str):\n",
    "    if isinstance(str_num, float): return str_num\n",
    "    if isinstance(str_num, int): return str_num\n",
    "    nums = {'zero':0, 'one':1, 'two':2, 'three':3, 'four':4, 'five':5, 'six':6, 'seven':7, 'eight':8, 'nine':9,\n",
    "           'ten':10, 'eleven':11, 'twelve':12, 'thirteen':13, 'fourteen':14, 'fifteen':15, 'sixteen':16, 'seventeen':17,\n",
    "           'eighteen':18, 'nineteen':19, 'twenty':20, 'thirty':30, 'fourty':40, 'fifty':50, 'sixty':60, 'seventy':70, \n",
    "           'eighty':80, 'ninety':90, 'hundred':100}\n",
    "    num = 0\n",
    "    for split in str_num.split():\n",
    "        if split == 'and': continue\n",
    "        num += nums[split]\n",
    "    return num    "
   ]
  },
  {
   "cell_type": "code",
   "execution_count": 6,
   "id": "14899482",
   "metadata": {},
   "outputs": [
    {
     "data": {
      "text/html": [
       "<div>\n",
       "<style scoped>\n",
       "    .dataframe tbody tr th:only-of-type {\n",
       "        vertical-align: middle;\n",
       "    }\n",
       "\n",
       "    .dataframe tbody tr th {\n",
       "        vertical-align: top;\n",
       "    }\n",
       "\n",
       "    .dataframe thead th {\n",
       "        text-align: right;\n",
       "    }\n",
       "</style>\n",
       "<table border=\"1\" class=\"dataframe\">\n",
       "  <thead>\n",
       "    <tr style=\"text-align: right;\">\n",
       "      <th></th>\n",
       "      <th>xp</th>\n",
       "      <th>test_score</th>\n",
       "      <th>interview_score</th>\n",
       "      <th>salary</th>\n",
       "    </tr>\n",
       "  </thead>\n",
       "  <tbody>\n",
       "    <tr>\n",
       "      <th>0</th>\n",
       "      <td>0</td>\n",
       "      <td>8.0</td>\n",
       "      <td>9</td>\n",
       "      <td>50000</td>\n",
       "    </tr>\n",
       "    <tr>\n",
       "      <th>1</th>\n",
       "      <td>0</td>\n",
       "      <td>8.0</td>\n",
       "      <td>6</td>\n",
       "      <td>45000</td>\n",
       "    </tr>\n",
       "    <tr>\n",
       "      <th>2</th>\n",
       "      <td>5</td>\n",
       "      <td>6.0</td>\n",
       "      <td>7</td>\n",
       "      <td>60000</td>\n",
       "    </tr>\n",
       "    <tr>\n",
       "      <th>3</th>\n",
       "      <td>2</td>\n",
       "      <td>10.0</td>\n",
       "      <td>10</td>\n",
       "      <td>65000</td>\n",
       "    </tr>\n",
       "    <tr>\n",
       "      <th>4</th>\n",
       "      <td>7</td>\n",
       "      <td>9.0</td>\n",
       "      <td>6</td>\n",
       "      <td>70000</td>\n",
       "    </tr>\n",
       "    <tr>\n",
       "      <th>5</th>\n",
       "      <td>3</td>\n",
       "      <td>7.0</td>\n",
       "      <td>10</td>\n",
       "      <td>62000</td>\n",
       "    </tr>\n",
       "    <tr>\n",
       "      <th>6</th>\n",
       "      <td>10</td>\n",
       "      <td>0.0</td>\n",
       "      <td>7</td>\n",
       "      <td>72000</td>\n",
       "    </tr>\n",
       "    <tr>\n",
       "      <th>7</th>\n",
       "      <td>11</td>\n",
       "      <td>7.0</td>\n",
       "      <td>8</td>\n",
       "      <td>80000</td>\n",
       "    </tr>\n",
       "  </tbody>\n",
       "</table>\n",
       "</div>"
      ],
      "text/plain": [
       "   xp  test_score  interview_score  salary\n",
       "0   0         8.0                9   50000\n",
       "1   0         8.0                6   45000\n",
       "2   5         6.0                7   60000\n",
       "3   2        10.0               10   65000\n",
       "4   7         9.0                6   70000\n",
       "5   3         7.0               10   62000\n",
       "6  10         0.0                7   72000\n",
       "7  11         7.0                8   80000"
      ]
     },
     "execution_count": 6,
     "metadata": {},
     "output_type": "execute_result"
    }
   ],
   "source": [
    "df['experience'] = df['experience'].apply(convert_text_to_number)\n",
    "df['experience'] = df['experience'].astype(np.longlong)\n",
    "df.rename(columns={'experience':'xp', 'test_score(out of 10)':'test_score', \n",
    "                   'interview_score(out of 10)':'interview_score', 'salary($)':'salary'}, inplace=True)\n",
    "df"
   ]
  },
  {
   "cell_type": "code",
   "execution_count": 50,
   "id": "570e8b6f",
   "metadata": {},
   "outputs": [
    {
     "data": {
      "image/png": "[encoded data removed]",
      "text/plain": [
       "<Figure size 1080x360 with 3 Axes>"
      ]
     },
     "metadata": {
      "needs_background": "light"
     },
     "output_type": "display_data"
    }
   ],
   "source": [
    "fig, ax = plt.subplots(1, 3, figsize=(15, 5))\n",
    "ax[0].scatter(df['xp'], df['salary'])\n",
    "ax[0].set_title('Salary based on experience')\n",
    "ax[0].set_xlabel('Experience')\n",
    "ax[0].set_ylabel('Salary')\n",
    "\n",
    "ax[1].scatter(df['test_score'], df['salary'])\n",
    "ax[1].set_title('Salary based on test score')\n",
    "ax[1].set_xlabel('Test score')\n",
    "ax[1].tick_params(left=False, labelleft=False)\n",
    "\n",
    "ax[2].scatter(df['interview_score'], df['salary'])\n",
    "ax[2].set_title('Salary based on interview score')\n",
    "ax[2].set_xlabel('Interview score')\n",
    "ax[2].tick_params(left=False, labelleft=False)"
   ]
  },
  {
   "cell_type": "code",
   "execution_count": 40,
   "id": "962ccb6d",
   "metadata": {},
   "outputs": [],
   "source": [
    "X = np.c_[(df['xp'], df['test_score'], df['interview_score'])]\n",
    "y = np.array(df.salary)\n",
    "reg = LinearRegression()\n",
    "reg = reg.fit(X, y)"
   ]
  },
  {
   "cell_type": "code",
   "execution_count": 41,
   "id": "bf92ed8f",
   "metadata": {},
   "outputs": [
    {
     "data": {
      "text/plain": [
       "0.9718156538228174"
      ]
     },
     "execution_count": 41,
     "metadata": {},
     "output_type": "execute_result"
    }
   ],
   "source": [
    "reg.score(X, y)"
   ]
  },
  {
   "cell_type": "code",
   "execution_count": 53,
   "id": "95b411d7",
   "metadata": {},
   "outputs": [
    {
     "name": "stdout",
     "output_type": "stream",
     "text": [
      "2 years experience - 9 test score - 6 interview score \n",
      "      52688 salary\n",
      "12 years experience - 10 test score - 10 interview score \n",
      "      92940 salary\n"
     ]
    }
   ],
   "source": [
    "test_case1 = np.array([2, 9, 6])\n",
    "test_case2 = np.array([12, 10, 10])\n",
    "res = np.array(reg.predict([[2, 9, 6], [12, 10, 10]]), dtype='int64')\n",
    "print(f\"\"\"{test_case1[0]} years experience - {test_case1[1]} test score - {test_case1[2]} interview score \n",
    "      {res[0]} salary\"\"\")\n",
    "print(f\"\"\"{test_case2[0]} years experience - {test_case2[1]} test score - {test_case2[2]} interview score \n",
    "      {res[1]} salary\"\"\")"
   ]
  },
  {
   "cell_type": "code",
   "execution_count": null,
   "id": "24677370",
   "metadata": {},
   "outputs": [],
   "source": []
  }
 ],
 "metadata": {
  "kernelspec": {
   "display_name": "Python 3 (ipykernel)",
   "language": "python",
   "name": "python3"
  },
  "language_info": {
   "codemirror_mode": {
    "name": "ipython",
    "version": 3
   },
   "file_extension": ".py",
   "mimetype": "text/x-python",
   "name": "python",
   "nbconvert_exporter": "python",
   "pygments_lexer": "ipython3",
   "version": "3.10.4"
  }
 },
 "nbformat": 4,
 "nbformat_minor": 5
}
