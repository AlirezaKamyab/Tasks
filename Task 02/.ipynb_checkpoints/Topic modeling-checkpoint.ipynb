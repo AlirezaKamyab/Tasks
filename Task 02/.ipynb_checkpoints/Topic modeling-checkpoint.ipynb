{
 "cells": [
  {
   "cell_type": "code",
   "execution_count": 1,
   "id": "d9f02ea3",
   "metadata": {},
   "outputs": [],
   "source": [
    "import spacy\n",
    "import pandas as pd\n",
    "from sklearn.feature_extraction.text import CountVectorizer"
   ]
  },
  {
   "cell_type": "code",
   "execution_count": 2,
   "id": "87efa357",
   "metadata": {},
   "outputs": [],
   "source": [
    "df = pd.read_csv('transcript_data.csv')\n",
    "df = df.dropna()"
   ]
  },
  {
   "cell_type": "code",
   "execution_count": 3,
   "id": "af891116",
   "metadata": {},
   "outputs": [
    {
     "data": {
      "text/plain": [
       "(4298, 2)"
      ]
     },
     "execution_count": 3,
     "metadata": {},
     "output_type": "execute_result"
    }
   ],
   "source": [
    "df.shape"
   ]
  },
  {
   "cell_type": "code",
   "execution_count": 4,
   "id": "155d6313",
   "metadata": {},
   "outputs": [],
   "source": [
    "cv = CountVectorizer(max_df=0.80, min_df=0.30, stop_words='english')"
   ]
  },
  {
   "cell_type": "code",
   "execution_count": 5,
   "id": "7c211b29",
   "metadata": {},
   "outputs": [],
   "source": [
    "dtm = cv.fit_transform(df.transcript)"
   ]
  },
  {
   "cell_type": "code",
   "execution_count": 6,
   "id": "f8bcdfcb",
   "metadata": {},
   "outputs": [
    {
     "data": {
      "text/plain": [
       "<4298x145 sparse matrix of type '<class 'numpy.int64'>'\n",
       "\twith 284473 stored elements in Compressed Sparse Row format>"
      ]
     },
     "execution_count": 6,
     "metadata": {},
     "output_type": "execute_result"
    }
   ],
   "source": [
    "dtm"
   ]
  },
  {
   "cell_type": "code",
   "execution_count": 7,
   "id": "7802c633",
   "metadata": {},
   "outputs": [],
   "source": [
    "from sklearn.decomposition import LatentDirichletAllocation"
   ]
  },
  {
   "cell_type": "code",
   "execution_count": 8,
   "id": "2f3f847e",
   "metadata": {},
   "outputs": [],
   "source": [
    "LDA = LatentDirichletAllocation(n_components=7)"
   ]
  },
  {
   "cell_type": "code",
   "execution_count": 9,
   "id": "077f2e7b",
   "metadata": {},
   "outputs": [],
   "source": [
    "LDA = LDA.fit(dtm)"
   ]
  },
  {
   "cell_type": "code",
   "execution_count": 10,
   "id": "4873ca84",
   "metadata": {},
   "outputs": [
    {
     "data": {
      "text/plain": [
       "array(['10', '20', 'able', 'actually', 'ago', 'applause', 'ask', 'asked',\n",
       "       'away', 'believe', 'best', 'better', 'big', 'bit', 'called',\n",
       "       'came', 'case', 'change', 'come'], dtype=object)"
      ]
     },
     "execution_count": 10,
     "metadata": {},
     "output_type": "execute_result"
    }
   ],
   "source": [
    "# Vocabulary of words\n",
    "cv.get_feature_names_out()[1:20]"
   ]
  },
  {
   "cell_type": "code",
   "execution_count": 11,
   "id": "ad5c04d7",
   "metadata": {},
   "outputs": [
    {
     "data": {
      "text/plain": [
       "145"
      ]
     },
     "execution_count": 11,
     "metadata": {},
     "output_type": "execute_result"
    }
   ],
   "source": [
    "len(cv.get_feature_names_out())"
   ]
  },
  {
   "cell_type": "code",
   "execution_count": 12,
   "id": "39dcf967",
   "metadata": {},
   "outputs": [],
   "source": [
    "# Topics"
   ]
  },
  {
   "cell_type": "code",
   "execution_count": 13,
   "id": "b9c37a05",
   "metadata": {},
   "outputs": [
    {
     "data": {
      "text/plain": [
       "7"
      ]
     },
     "execution_count": 13,
     "metadata": {},
     "output_type": "execute_result"
    }
   ],
   "source": [
    "len(LDA.components_)"
   ]
  },
  {
   "cell_type": "code",
   "execution_count": 14,
   "id": "17f56f62",
   "metadata": {},
   "outputs": [
    {
     "data": {
      "text/plain": [
       "(7, 145)"
      ]
     },
     "execution_count": 14,
     "metadata": {},
     "output_type": "execute_result"
    }
   ],
   "source": [
    "LDA.components_.shape"
   ]
  },
  {
   "cell_type": "code",
   "execution_count": 15,
   "id": "4b64d012",
   "metadata": {},
   "outputs": [
    {
     "data": {
      "text/plain": [
       "array([[ 284.63722648,  158.89546207,   89.69778237, ..., 5959.90483694,\n",
       "         265.09895965, 1231.78870986],\n",
       "       [ 125.22670954,  291.13411878,  224.93164716, ..., 1475.93890884,\n",
       "        1577.11240628, 2661.9369707 ],\n",
       "       [ 197.25548275,  111.80578177,  128.61674436, ..., 2049.96050901,\n",
       "         365.84994005, 1244.28210786],\n",
       "       ...,\n",
       "       [ 525.55496929,  558.21465738,  253.02687785, ...,  129.4562041 ,\n",
       "         454.74171233,  676.87142921],\n",
       "       [ 132.32356872,  328.75216894,  149.13258775, ...,  833.58797788,\n",
       "         307.5787342 ,  464.05704878],\n",
       "       [2543.86497179, 1620.10844391, 1067.09246597, ..., 3313.79819898,\n",
       "        2793.635857  , 4892.52566527]])"
      ]
     },
     "execution_count": 15,
     "metadata": {},
     "output_type": "execute_result"
    }
   ],
   "source": [
    "LDA.components_"
   ]
  },
  {
   "cell_type": "code",
   "execution_count": 16,
   "id": "b8938f72",
   "metadata": {},
   "outputs": [],
   "source": [
    "single_topic = LDA.components_[0]"
   ]
  },
  {
   "cell_type": "code",
   "execution_count": 17,
   "id": "37a49711",
   "metadata": {},
   "outputs": [
    {
     "data": {
      "text/plain": [
       "array([ 52, 105,  88, 102,  62,  86,  42,  70,  25,   8,   7,   2, 127,\n",
       "        87, 100, 103, 139,  47,  39, 115,  61,  48,  75,  44,  50,  89,\n",
       "        58,   1,  17,  51,  46,  82,  68, 125,  93,  14, 104,  27, 117,\n",
       "        36,  94,  30,  63,  66,  77,  65,  24,  45, 106,  40,  49,  11,\n",
       "       143,  16,  95,  83, 107,  80,  20,  21,   0, 128, 116,   9,  41,\n",
       "        97,  71,  96, 109,  26, 124,  12,  33,  29, 118, 129, 120,  55,\n",
       "        10,  32,  81,  73,  69, 130,  92, 137,  37,  79,  57,   6,  67,\n",
       "        35,  60,  31, 141,  13,  64,   5, 123,  98,  19, 108,  78,  91,\n",
       "       136, 110, 119,  38, 131, 101,  22, 111,  56, 112, 113, 135,  74,\n",
       "        53,  15,  90, 138,   3, 126, 140,  43,  34,  72, 121, 134, 114,\n",
       "        59, 144,  84,   4, 133, 132,  54,  23,  76,  18,  99, 122,  28,\n",
       "        85, 142])"
      ]
     },
     "execution_count": 17,
     "metadata": {},
     "output_type": "execute_result"
    }
   ],
   "source": [
    "single_topic.argsort()"
   ]
  },
  {
   "cell_type": "code",
   "execution_count": 18,
   "id": "a53c06e9",
   "metadata": {},
   "outputs": [
    {
     "data": {
      "text/plain": [
       "array([132,  54,  23,  76,  18,  99, 122,  28,  85, 142])"
      ]
     },
     "execution_count": 18,
     "metadata": {},
     "output_type": "execute_result"
    }
   ],
   "source": [
    "single_topic.argsort()[-10:] # Top 10 values"
   ]
  },
  {
   "cell_type": "code",
   "execution_count": 19,
   "id": "5974f5ae",
   "metadata": {},
   "outputs": [
    {
     "name": "stdout",
     "output_type": "stream",
     "text": [
      "use\n",
      "idea\n",
      "create\n",
      "make\n",
      "change\n",
      "really\n",
      "think\n",
      "different\n",
      "new\n",
      "world\n"
     ]
    }
   ],
   "source": [
    "top_10_words = single_topic.argsort()[-10:]\n",
    "for index in top_10_words:\n",
    "    print(cv.get_feature_names_out()[index])"
   ]
  },
  {
   "cell_type": "code",
   "execution_count": 20,
   "id": "cc5d183e",
   "metadata": {},
   "outputs": [
    {
     "name": "stdout",
     "output_type": "stream",
     "text": [
      "Top 20 words for topic #0\n",
      "['example', 'look', 'things', 'using', 'story', 'kind', 'years', 'need', 'actually', 'used', 'use', 'idea', 'create', 'make', 'change', 'really', 'think', 'different', 'new', 'world']\n",
      "\n",
      "\n",
      "Top 20 words for topic #1\n",
      "['thought', 'want', 'come', 'story', 'school', 'started', 'came', 'don', 'got', 'went', 'years', 'love', 'applause', 'didn', 'day', 'did', 'life', 'know', 'laughter', 'said']\n",
      "\n",
      "\n",
      "Top 20 words for topic #2\n",
      "['change', 'day', 've', 'use', 'live', 'better', 'lives', 'years', 'home', 'future', 'today', 'help', 'need', 'make', 'world', 'life', 'power', 'new', 'human', 'work']\n",
      "\n",
      "\n",
      "Top 20 words for topic #3\n",
      "['got', 'kind', 'mean', 'look', 'good', 'actually', 'right', 'talk', 'lot', 'said', 'thing', 'want', 'say', 've', 'things', 'don', 'really', 'going', 'know', 'think']\n",
      "\n",
      "\n",
      "Top 20 words for topic #4\n",
      "['work', 'look', 'left', 'problem', 'does', 'second', 'know', 'able', 'school', 'example', 'll', 'need', 'different', 'make', 'right', 'called', 'use', 'let', 'high', 'number']\n",
      "\n",
      "\n",
      "Top 20 words for topic #5\n",
      "['good', 'lot', 'll', 'got', 'think', 'look', 'kind', 'make', 'thing', 'want', 'don', 've', 'things', 'little', 'right', 'know', 'really', 'actually', 'going', 'laughter']\n",
      "\n",
      "\n",
      "Top 20 words for topic #6\n",
      "['big', 'think', 'really', 'don', 'change', 'new', 'ago', '10', 'know', 'actually', 'today', 'need', 'million', '000', 'year', 'going', 've', 'world', 'percent', 'years']\n",
      "\n",
      "\n"
     ]
    }
   ],
   "source": [
    "for i, topic in enumerate(LDA.components_):\n",
    "    print(f\"Top 20 words for topic #{i}\")\n",
    "    print([cv.get_feature_names_out()[index] for index in topic.argsort()[-20:]])\n",
    "    print('\\n')"
   ]
  },
  {
   "cell_type": "code",
   "execution_count": 21,
   "id": "1d01f58d",
   "metadata": {},
   "outputs": [],
   "source": [
    "topic_results = LDA.transform(dtm)"
   ]
  },
  {
   "cell_type": "code",
   "execution_count": 22,
   "id": "07bdf181",
   "metadata": {},
   "outputs": [
    {
     "data": {
      "text/plain": [
       "array([[0.29, 0.  , 0.22, ..., 0.36, 0.  , 0.12],\n",
       "       [0.  , 0.  , 0.  , ..., 0.45, 0.  , 0.54],\n",
       "       [0.28, 0.  , 0.  , ..., 0.71, 0.  , 0.  ],\n",
       "       ...,\n",
       "       [0.  , 0.13, 0.42, ..., 0.  , 0.23, 0.22],\n",
       "       [0.  , 0.24, 0.06, ..., 0.  , 0.61, 0.09],\n",
       "       [0.07, 0.47, 0.  , ..., 0.  , 0.46, 0.  ]])"
      ]
     },
     "execution_count": 22,
     "metadata": {},
     "output_type": "execute_result"
    }
   ],
   "source": [
    "topic_results.round(2)"
   ]
  },
  {
   "cell_type": "code",
   "execution_count": 23,
   "id": "d31cf74d",
   "metadata": {},
   "outputs": [],
   "source": [
    "df['topic'] = pd.DataFrame(topic_results.argmax(axis=1))"
   ]
  },
  {
   "cell_type": "code",
   "execution_count": 24,
   "id": "2063417b",
   "metadata": {},
   "outputs": [
    {
     "data": {
      "text/html": [
       "<div>\n",
       "<style scoped>\n",
       "    .dataframe tbody tr th:only-of-type {\n",
       "        vertical-align: middle;\n",
       "    }\n",
       "\n",
       "    .dataframe tbody tr th {\n",
       "        vertical-align: top;\n",
       "    }\n",
       "\n",
       "    .dataframe thead th {\n",
       "        text-align: right;\n",
       "    }\n",
       "</style>\n",
       "<table border=\"1\" class=\"dataframe\">\n",
       "  <thead>\n",
       "    <tr style=\"text-align: right;\">\n",
       "      <th></th>\n",
       "      <th>title</th>\n",
       "      <th>transcript</th>\n",
       "      <th>topic</th>\n",
       "    </tr>\n",
       "  </thead>\n",
       "  <tbody>\n",
       "    <tr>\n",
       "      <th>0</th>\n",
       "      <td>Can you outsmart the apples and oranges fallacy?</td>\n",
       "      <td>Baking apple pie? Discount orange warehouse ha...</td>\n",
       "      <td>4.0</td>\n",
       "    </tr>\n",
       "    <tr>\n",
       "      <th>1</th>\n",
       "      <td>The exploitation of US college athletes</td>\n",
       "      <td>In college sports, American universities are e...</td>\n",
       "      <td>6.0</td>\n",
       "    </tr>\n",
       "    <tr>\n",
       "      <th>2</th>\n",
       "      <td>How does ultrasound work?</td>\n",
       "      <td>In a pitch-black cave, bats can’t see much. Bu...</td>\n",
       "      <td>4.0</td>\n",
       "    </tr>\n",
       "    <tr>\n",
       "      <th>3</th>\n",
       "      <td>An honest history of an ancient and \"nasty\" word</td>\n",
       "      <td>First, a warning. As far as offensive words go...</td>\n",
       "      <td>5.0</td>\n",
       "    </tr>\n",
       "    <tr>\n",
       "      <th>4</th>\n",
       "      <td>The electrical blueprints that orchestrate life</td>\n",
       "      <td>Chris Anderson: Mike, welcome. It's good to se...</td>\n",
       "      <td>5.0</td>\n",
       "    </tr>\n",
       "    <tr>\n",
       "      <th>...</th>\n",
       "      <td>...</td>\n",
       "      <td>...</td>\n",
       "      <td>...</td>\n",
       "    </tr>\n",
       "    <tr>\n",
       "      <th>4292</th>\n",
       "      <td>The anthropology of mobile phones</td>\n",
       "      <td>I live and work from Tokyo, Japan. And I speci...</td>\n",
       "      <td>1.0</td>\n",
       "    </tr>\n",
       "    <tr>\n",
       "      <th>4293</th>\n",
       "      <td>The illustrated woman</td>\n",
       "      <td>What I am always thinking about is what this s...</td>\n",
       "      <td>6.0</td>\n",
       "    </tr>\n",
       "    <tr>\n",
       "      <th>4295</th>\n",
       "      <td>Life at 30,000 feet</td>\n",
       "      <td>Chris Anderson: Welcome to TED.Richard Branson...</td>\n",
       "      <td>2.0</td>\n",
       "    </tr>\n",
       "    <tr>\n",
       "      <th>4296</th>\n",
       "      <td>My magic moves</td>\n",
       "      <td>(Applause)(Music)(Applause)</td>\n",
       "      <td>5.0</td>\n",
       "    </tr>\n",
       "    <tr>\n",
       "      <th>4297</th>\n",
       "      <td>This is Saturn</td>\n",
       "      <td>In the next 18 minutes, I'm going to take you ...</td>\n",
       "      <td>1.0</td>\n",
       "    </tr>\n",
       "  </tbody>\n",
       "</table>\n",
       "<p>4158 rows × 3 columns</p>\n",
       "</div>"
      ],
      "text/plain": [
       "                                                 title  \\\n",
       "0     Can you outsmart the apples and oranges fallacy?   \n",
       "1              The exploitation of US college athletes   \n",
       "2                            How does ultrasound work?   \n",
       "3     An honest history of an ancient and \"nasty\" word   \n",
       "4      The electrical blueprints that orchestrate life   \n",
       "...                                                ...   \n",
       "4292                 The anthropology of mobile phones   \n",
       "4293                             The illustrated woman   \n",
       "4295                               Life at 30,000 feet   \n",
       "4296                                    My magic moves   \n",
       "4297                                    This is Saturn   \n",
       "\n",
       "                                             transcript  topic  \n",
       "0     Baking apple pie? Discount orange warehouse ha...    4.0  \n",
       "1     In college sports, American universities are e...    6.0  \n",
       "2     In a pitch-black cave, bats can’t see much. Bu...    4.0  \n",
       "3     First, a warning. As far as offensive words go...    5.0  \n",
       "4     Chris Anderson: Mike, welcome. It's good to se...    5.0  \n",
       "...                                                 ...    ...  \n",
       "4292  I live and work from Tokyo, Japan. And I speci...    1.0  \n",
       "4293  What I am always thinking about is what this s...    6.0  \n",
       "4295  Chris Anderson: Welcome to TED.Richard Branson...    2.0  \n",
       "4296                        (Applause)(Music)(Applause)    5.0  \n",
       "4297  In the next 18 minutes, I'm going to take you ...    1.0  \n",
       "\n",
       "[4158 rows x 3 columns]"
      ]
     },
     "execution_count": 24,
     "metadata": {},
     "output_type": "execute_result"
    }
   ],
   "source": [
    "df.dropna()"
   ]
  },
  {
   "cell_type": "code",
   "execution_count": 25,
   "id": "22a74e71",
   "metadata": {},
   "outputs": [
    {
     "data": {
      "text/plain": [
       "4298"
      ]
     },
     "execution_count": 25,
     "metadata": {},
     "output_type": "execute_result"
    }
   ],
   "source": [
    "len(topic_results.argmax(axis=1))"
   ]
  },
  {
   "cell_type": "code",
   "execution_count": null,
   "id": "b9b0a9bc",
   "metadata": {},
   "outputs": [],
   "source": []
  }
 ],
 "metadata": {
  "kernelspec": {
   "display_name": "Python 3 (ipykernel)",
   "language": "python",
   "name": "python3"
  },
  "language_info": {
   "codemirror_mode": {
    "name": "ipython",
    "version": 3
   },
   "file_extension": ".py",
   "mimetype": "text/x-python",
   "name": "python",
   "nbconvert_exporter": "python",
   "pygments_lexer": "ipython3",
   "version": "3.10.6"
  }
 },
 "nbformat": 4,
 "nbformat_minor": 5
}
